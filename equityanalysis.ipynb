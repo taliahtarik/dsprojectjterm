{
  "nbformat": 4,
  "nbformat_minor": 0,
  "metadata": {
    "colab": {
      "provenance": [],
      "authorship_tag": "ABX9TyNi9Bsu9hE3lyCBWjImE8mr",
      "include_colab_link": true
    },
    "kernelspec": {
      "name": "python3",
      "display_name": "Python 3"
    },
    "language_info": {
      "name": "python"
    }
  },
  "cells": [
    {
      "cell_type": "markdown",
      "metadata": {
        "id": "view-in-github",
        "colab_type": "text"
      },
      "source": [
        "<a href=\"https://colab.research.google.com/github/taliahtarik/dsprojectjterm/blob/main/equityanalysis.ipynb\" target=\"_parent\"><img src=\"https://colab.research.google.com/assets/colab-badge.svg\" alt=\"Open In Colab\"/></a>"
      ]
    },
    {
      "cell_type": "code",
      "execution_count": 2,
      "metadata": {
        "colab": {
          "base_uri": "https://localhost:8080/"
        },
        "id": "5ifVXVsAwI1H",
        "outputId": "34dcc121-1022-4226-c817-7ff734f71cb1"
      },
      "outputs": [
        {
          "output_type": "stream",
          "name": "stdout",
          "text": [
            "Initial Dataset Preview:\n",
            "   Facility.ID                  Facility.Name.x State.x       Measure.Name  \\\n",
            "0        10001  SOUTHEAST HEALTH MEDICAL CENTER      AL  READM-30-AMI-HRRP   \n",
            "1        10001  SOUTHEAST HEALTH MEDICAL CENTER      AL  READM-30-AMI-HRRP   \n",
            "2        10001  SOUTHEAST HEALTH MEDICAL CENTER      AL  READM-30-AMI-HRRP   \n",
            "3        10001  SOUTHEAST HEALTH MEDICAL CENTER      AL  READM-30-AMI-HRRP   \n",
            "4        10001  SOUTHEAST HEALTH MEDICAL CENTER      AL  READM-30-AMI-HRRP   \n",
            "\n",
            "   Number.of.Discharges  Footnote.x  Excess.Readmission.Ratio  \\\n",
            "0                 274.0         NaN                    0.9332   \n",
            "1                 274.0         NaN                    0.9332   \n",
            "2                 274.0         NaN                    0.9332   \n",
            "3                 274.0         NaN                    0.9332   \n",
            "4                 274.0         NaN                    0.9332   \n",
            "\n",
            "   Predicted.Readmission.Rate  Expected.Readmission.Rate  \\\n",
            "0                     12.9044                    13.8283   \n",
            "1                     12.9044                    13.8283   \n",
            "2                     12.9044                    13.8283   \n",
            "3                     12.9044                    13.8283   \n",
            "4                     12.9044                    13.8283   \n",
            "\n",
            "  Number.of.Readmissions  ... ZIP.Code County.Parish Telephone.Number  \\\n",
            "0                     32  ...  36301.0       HOUSTON   (334) 793-8701   \n",
            "1                     32  ...  36301.0       HOUSTON   (334) 793-8701   \n",
            "2                     32  ...  36301.0       HOUSTON   (334) 793-8701   \n",
            "3                     32  ...  36301.0       HOUSTON   (334) 793-8701   \n",
            "4                     32  ...  36301.0       HOUSTON   (334) 793-8701   \n",
            "\n",
            "         HCHE.Measure.ID                                   HCHE.Description  \\\n",
            "0        HCHE_D3_F_SCORE  Effective data analysis can provide insights i...   \n",
            "1  HCHE_D1_Q4_F_RESPONSE  Our hospital strategic plan describes our appr...   \n",
            "2  HCHE_D3_Q1_F_RESPONSE  Our hospital stratifies key performance indica...   \n",
            "3        HCHE_D5_F_SCORE  Leaders and staff can improve their capacity t...   \n",
            "4  HCHE_D4_Q1_F_RESPONSE  Our hospital participates in local, regional, ...   \n",
            "\n",
            "            Score  Attestation.Result Footnote.y Start.Date.y  End.Date.y  \n",
            "0               0      Not Applicable        NaN   01/01/2023  12/31/2023  \n",
            "1  Not Applicable                 Yes        NaN   01/01/2023  12/31/2023  \n",
            "2  Not Applicable                  No        NaN   01/01/2023  12/31/2023  \n",
            "3               0      Not Applicable        NaN   01/01/2023  12/31/2023  \n",
            "4  Not Applicable                 Yes        NaN   01/01/2023  12/31/2023  \n",
            "\n",
            "[5 rows x 26 columns]\n"
          ]
        }
      ],
      "source": [
        "import numpy as np\n",
        "import matplotlib.pyplot as plt\n",
        "import pandas as pd\n",
        "import seaborn as sns\n",
        "from sklearn.ensemble import RandomForestClassifier\n",
        "from sklearn.metrics import classification_report, confusion_matrix\n",
        "\n",
        "df = pd.read_csv('/root/Merged_Hospital_Data.csv')\n",
        "\n",
        "print(\"Initial Dataset Preview:\")\n",
        "print(df.head())"
      ]
    },
    {
      "cell_type": "code",
      "source": [
        "relevant_columns = ['Score', 'Predicted.Readmission.Rate', 'Expected.Readmission.Rate', 'Excess.Readmission.Ratio']\n",
        "df_cleaned = df[relevant_columns].dropna()\n",
        "\n",
        "df_cleaned['Score'] = pd.to_numeric(df_cleaned['Score'], errors='coerce')\n",
        "df_cleaned['Score_Binary'] = df_cleaned['Score'].apply(lambda x: 1 if x > 3 else 0)\n",
        "\n",
        "X = df_cleaned[['Predicted.Readmission.Rate', 'Expected.Readmission.Rate', 'Excess.Readmission.Ratio']]\n",
        "y = df_cleaned['Score_Binary']\n",
        "\n",
        "model = RandomForestClassifier(random_state=42, n_estimators=100)\n",
        "model.fit(X, y)\n",
        "\n",
        "y_pred = model.predict(X)\n",
        "\n",
        "conf_matrix = confusion_matrix(y, y_pred)\n",
        "class_report = classification_report(y, y_pred)\n",
        "\n",
        "print(\"\\nConfusion Matrix:\")\n",
        "print(conf_matrix)\n",
        "\n",
        "print(\"\\nClassification Report:\")\n",
        "print(class_report)"
      ],
      "metadata": {
        "colab": {
          "base_uri": "https://localhost:8080/"
        },
        "id": "YQYfj5Rpx4vD",
        "outputId": "8f85f297-54fc-49e2-9637-fe374747bdea"
      },
      "execution_count": 9,
      "outputs": [
        {
          "output_type": "stream",
          "name": "stdout",
          "text": [
            "\n",
            "Confusion Matrix:\n",
            "[[192969      0]\n",
            " [ 10351      0]]\n",
            "\n",
            "Classification Report:\n",
            "              precision    recall  f1-score   support\n",
            "\n",
            "           0       0.95      1.00      0.97    192969\n",
            "           1       0.00      0.00      0.00     10351\n",
            "\n",
            "    accuracy                           0.95    203320\n",
            "   macro avg       0.47      0.50      0.49    203320\n",
            "weighted avg       0.90      0.95      0.92    203320\n",
            "\n"
          ]
        },
        {
          "output_type": "stream",
          "name": "stderr",
          "text": [
            "/usr/local/lib/python3.10/dist-packages/sklearn/metrics/_classification.py:1565: UndefinedMetricWarning: Precision is ill-defined and being set to 0.0 in labels with no predicted samples. Use `zero_division` parameter to control this behavior.\n",
            "  _warn_prf(average, modifier, f\"{metric.capitalize()} is\", len(result))\n",
            "/usr/local/lib/python3.10/dist-packages/sklearn/metrics/_classification.py:1565: UndefinedMetricWarning: Precision is ill-defined and being set to 0.0 in labels with no predicted samples. Use `zero_division` parameter to control this behavior.\n",
            "  _warn_prf(average, modifier, f\"{metric.capitalize()} is\", len(result))\n",
            "/usr/local/lib/python3.10/dist-packages/sklearn/metrics/_classification.py:1565: UndefinedMetricWarning: Precision is ill-defined and being set to 0.0 in labels with no predicted samples. Use `zero_division` parameter to control this behavior.\n",
            "  _warn_prf(average, modifier, f\"{metric.capitalize()} is\", len(result))\n"
          ]
        }
      ]
    },
    {
      "cell_type": "code",
      "source": [
        "feature_importances = pd.Series(model.feature_importances_, index=X.columns)\n",
        "print(\"\\nFeature Importances:\")\n",
        "print(feature_importances)\n",
        "\n",
        "plt.figure(figsize=(8, 6))\n",
        "sns.barplot(x=feature_importances, y=feature_importances.index, palette='viridis')\n",
        "plt.title('Feature Importances from Random Forest Classifier')\n",
        "plt.xlabel('Importance Score')\n",
        "plt.ylabel('Features')\n",
        "plt.tight_layout()\n",
        "plt.show()"
      ],
      "metadata": {
        "colab": {
          "base_uri": "https://localhost:8080/",
          "height": 823
        },
        "id": "rsx7yezBykg5",
        "outputId": "877e37bb-bde8-40dd-dfca-f0d83890312e"
      },
      "execution_count": 4,
      "outputs": [
        {
          "output_type": "stream",
          "name": "stdout",
          "text": [
            "\n",
            "Feature Importances:\n",
            "Predicted.Readmission.Rate    0.338162\n",
            "Expected.Readmission.Rate     0.340556\n",
            "Excess.Readmission.Ratio      0.321282\n",
            "dtype: float64\n"
          ]
        },
        {
          "output_type": "stream",
          "name": "stderr",
          "text": [
            "<ipython-input-4-96c099456182>:8: FutureWarning: \n",
            "\n",
            "Passing `palette` without assigning `hue` is deprecated and will be removed in v0.14.0. Assign the `y` variable to `hue` and set `legend=False` for the same effect.\n",
            "\n",
            "  sns.barplot(x=feature_importances, y=feature_importances.index, palette='viridis')\n"
          ]
        },
        {
          "output_type": "display_data",
          "data": {
            "text/plain": [
              "<Figure size 800x600 with 1 Axes>"
            ],
            "image/png": "[encoded data removed]"
          },
          "metadata": {}
        }
      ]
    },
    {
      "cell_type": "markdown",
      "source": [
        "The classification model uses a Random Forest to predict whether a hospital's health equity score is above or below 3\n",
        "based on readmission-related metrics. The confusion matrix and classification report provide insights into model accuracy,\n",
        "precision, and recall. Feature importance highlights which metrics (e.g., Predicted Readmission Rate or Excess Readmission Ratio)\n",
        "contribute most to the predictions, enabling targeted interventions to improve equity and reduce disparities."
      ],
      "metadata": {
        "id": "irXTFgMXyzah"
      }
    }
  ]
}