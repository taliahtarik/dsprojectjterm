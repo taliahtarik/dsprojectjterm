{
  "nbformat": 4,
  "nbformat_minor": 0,
  "metadata": {
    "colab": {
      "provenance": [],
      "authorship_tag": "ABX9TyOGsRJr/AEFQvBbJ7fX0TN/",
      "include_colab_link": true
    },
    "kernelspec": {
      "name": "python3",
      "display_name": "Python 3"
    },
    "language_info": {
      "name": "python"
    }
  },
  "cells": [
    {
      "cell_type": "markdown",
      "metadata": {
        "id": "view-in-github",
        "colab_type": "text"
      },
      "source": [
        "<a href=\"https://colab.research.google.com/github/taliahtarik/dsprojectjterm/blob/main/HELinReg.ipynb\" target=\"_parent\"><img src=\"https://colab.research.google.com/assets/colab-badge.svg\" alt=\"Open In Colab\"/></a>"
      ]
    },
    {
      "cell_type": "code",
      "source": [
        "import pandas as pd\n",
        "file_path = '/root/Merged_Hospital_Data.csv'\n",
        "merged_data = pd.read_csv(file_path)\n",
        "\n",
        "\n",
        "print(merged_data.head())"
      ],
      "metadata": {
        "colab": {
          "base_uri": "https://localhost:8080/"
        },
        "id": "BODQeV-6dFT5",
        "outputId": "cf05025b-159d-45d2-c790-665bea012994"
      },
      "execution_count": 7,
      "outputs": [
        {
          "output_type": "stream",
          "name": "stdout",
          "text": [
            "   Facility.ID                  Facility.Name.x State.x       Measure.Name  \\\n",
            "0        10001  SOUTHEAST HEALTH MEDICAL CENTER      AL  READM-30-AMI-HRRP   \n",
            "1        10001  SOUTHEAST HEALTH MEDICAL CENTER      AL  READM-30-AMI-HRRP   \n",
            "2        10001  SOUTHEAST HEALTH MEDICAL CENTER      AL  READM-30-AMI-HRRP   \n",
            "3        10001  SOUTHEAST HEALTH MEDICAL CENTER      AL  READM-30-AMI-HRRP   \n",
            "4        10001  SOUTHEAST HEALTH MEDICAL CENTER      AL  READM-30-AMI-HRRP   \n",
            "\n",
            "   Number.of.Discharges  Footnote.x  Excess.Readmission.Ratio  \\\n",
            "0                 274.0         NaN                    0.9332   \n",
            "1                 274.0         NaN                    0.9332   \n",
            "2                 274.0         NaN                    0.9332   \n",
            "3                 274.0         NaN                    0.9332   \n",
            "4                 274.0         NaN                    0.9332   \n",
            "\n",
            "   Predicted.Readmission.Rate  Expected.Readmission.Rate  \\\n",
            "0                     12.9044                    13.8283   \n",
            "1                     12.9044                    13.8283   \n",
            "2                     12.9044                    13.8283   \n",
            "3                     12.9044                    13.8283   \n",
            "4                     12.9044                    13.8283   \n",
            "\n",
            "  Number.of.Readmissions  ... ZIP.Code County.Parish Telephone.Number  \\\n",
            "0                     32  ...  36301.0       HOUSTON   (334) 793-8701   \n",
            "1                     32  ...  36301.0       HOUSTON   (334) 793-8701   \n",
            "2                     32  ...  36301.0       HOUSTON   (334) 793-8701   \n",
            "3                     32  ...  36301.0       HOUSTON   (334) 793-8701   \n",
            "4                     32  ...  36301.0       HOUSTON   (334) 793-8701   \n",
            "\n",
            "         HCHE.Measure.ID                                   HCHE.Description  \\\n",
            "0        HCHE_D3_F_SCORE  Effective data analysis can provide insights i...   \n",
            "1  HCHE_D1_Q4_F_RESPONSE  Our hospital strategic plan describes our appr...   \n",
            "2  HCHE_D3_Q1_F_RESPONSE  Our hospital stratifies key performance indica...   \n",
            "3        HCHE_D5_F_SCORE  Leaders and staff can improve their capacity t...   \n",
            "4  HCHE_D4_Q1_F_RESPONSE  Our hospital participates in local, regional, ...   \n",
            "\n",
            "            Score  Attestation.Result Footnote.y Start.Date.y  End.Date.y  \n",
            "0               0      Not Applicable        NaN   01/01/2023  12/31/2023  \n",
            "1  Not Applicable                 Yes        NaN   01/01/2023  12/31/2023  \n",
            "2  Not Applicable                  No        NaN   01/01/2023  12/31/2023  \n",
            "3               0      Not Applicable        NaN   01/01/2023  12/31/2023  \n",
            "4  Not Applicable                 Yes        NaN   01/01/2023  12/31/2023  \n",
            "\n",
            "[5 rows x 26 columns]\n"
          ]
        }
      ]
    },
    {
      "cell_type": "code",
      "source": [
        "print(data.columns)"
      ],
      "metadata": {
        "colab": {
          "base_uri": "https://localhost:8080/"
        },
        "id": "d_D4z-qNfhVk",
        "outputId": "71d593e3-468a-45ac-cde5-a4ff044ff99b"
      },
      "execution_count": 9,
      "outputs": [
        {
          "output_type": "stream",
          "name": "stdout",
          "text": [
            "Index(['Facility.ID', 'Facility.Name.x', 'State.x', 'Measure.Name',\n",
            "       'Number.of.Discharges', 'Footnote.x', 'Excess.Readmission.Ratio',\n",
            "       'Predicted.Readmission.Rate', 'Expected.Readmission.Rate',\n",
            "       'Number.of.Readmissions', 'Start.Date.x', 'End.Date.x',\n",
            "       'Facility.Name.y', 'Address', 'City.Town', 'State.y', 'ZIP.Code',\n",
            "       'County.Parish', 'Telephone.Number', 'HCHE.Measure.ID',\n",
            "       'HCHE.Description', 'Score', 'Attestation.Result', 'Footnote.y',\n",
            "       'Start.Date.y', 'End.Date.y'],\n",
            "      dtype='object')\n"
          ]
        }
      ]
    },
    {
      "cell_type": "code",
      "source": [
        "filtered_data = data[['Score', 'Predicted.Readmission.Rate', 'Expected.Readmission.Rate']].dropna()\n"
      ],
      "metadata": {
        "id": "87rNYqsJfiqo"
      },
      "execution_count": 12,
      "outputs": []
    },
    {
      "cell_type": "code",
      "source": [
        "from sklearn.linear_model import LinearRegression\n",
        "from sklearn.model_selection import train_test_split\n",
        "from sklearn.metrics import mean_squared_error, r2_score\n",
        "\n",
        "data = pd.read_csv('Merged_Hospital_Data.csv')\n",
        "\n",
        "filtered_data = data[['Score', 'Predicted.Readmission.Rate', 'Expected.Readmission.Rate']].dropna().copy()\n",
        "\n",
        "filtered_data = filtered_data[\n",
        "    filtered_data['Score'].apply(lambda x: str(x).replace('.', '', 1).isdigit()) &\n",
        "    filtered_data['Predicted.Readmission.Rate'].apply(lambda x: str(x).replace('.', '', 1).isdigit()) &\n",
        "    filtered_data['Expected.Readmission.Rate'].apply(lambda x: str(x).replace('.', '', 1).isdigit())\n",
        "]\n",
        "\n",
        "filtered_data['Score'] = filtered_data['Score'].astype(float)\n",
        "filtered_data['Predicted.Readmission.Rate'] = filtered_data['Predicted.Readmission.Rate'].astype(float)\n",
        "filtered_data['Expected.Readmission.Rate'] = filtered_data['Expected.Readmission.Rate'].astype(float)\n",
        "\n",
        "X = filtered_data[['Score']]\n",
        "y_predicted = filtered_data['Predicted.Readmission.Rate']\n",
        "y_expected = filtered_data['Expected.Readmission.Rate']\n",
        "\n",
        "X_train_pred, X_test_pred, y_train_pred, y_test_pred = train_test_split(X, y_predicted, test_size=0.2, random_state=42)\n",
        "X_train_exp, X_test_exp, y_train_exp, y_test_exp = train_test_split(X, y_expected, test_size=0.2, random_state=42)\n",
        "\n",
        "model_predicted = LinearRegression()\n",
        "model_expected = LinearRegression()\n",
        "\n",
        "model_predicted.fit(X_train_pred, y_train_pred)\n",
        "model_expected.fit(X_train_exp, y_train_exp)\n",
        "\n",
        "y_pred_predicted = model_predicted.predict(X_test_pred)\n",
        "y_pred_expected = model_expected.predict(X_test_exp)\n",
        "\n",
        "mse_predicted = mean_squared_error(y_test_pred, y_pred_predicted)\n",
        "r2_predicted = r2_score(y_test_pred, y_pred_predicted)\n",
        "\n",
        "mse_expected = mean_squared_error(y_test_exp, y_pred_expected)\n",
        "r2_expected = r2_score(y_test_exp, y_pred_expected)\n",
        "\n",
        "print(\"\\nResults Summary:\")\n",
        "print(\"Predicted Readmission Rate Model:\")\n",
        "print(f\"Mean Squared Error: {mse_predicted:.4f}\")\n",
        "print(f\"R-squared: {r2_predicted:.4f}\")\n",
        "\n",
        "print(\"\\nExpected Readmission Rate Model:\")\n",
        "print(f\"Mean Squared Error: {mse_expected:.4f}\")\n",
        "print(f\"R-squared: {r2_expected:.4f}\")\n"
      ],
      "metadata": {
        "colab": {
          "base_uri": "https://localhost:8080/"
        },
        "id": "HByel-YJd5aw",
        "outputId": "8cadb810-509a-4b99-a5fb-802f7748fd77"
      },
      "execution_count": 16,
      "outputs": [
        {
          "output_type": "stream",
          "name": "stdout",
          "text": [
            "\n",
            "Results Summary:\n",
            "Predicted Readmission Rate Model:\n",
            "Mean Squared Error: 30.0811\n",
            "R-squared: -0.0001\n",
            "\n",
            "Expected Readmission Rate Model:\n",
            "Mean Squared Error: 28.6427\n",
            "R-squared: -0.0001\n"
          ]
        },
        {
          "output_type": "stream",
          "name": "stderr",
          "text": [
            "<ipython-input-16-1bf94ec3e122>:15: SettingWithCopyWarning: \n",
            "A value is trying to be set on a copy of a slice from a DataFrame.\n",
            "Try using .loc[row_indexer,col_indexer] = value instead\n",
            "\n",
            "See the caveats in the documentation: https://pandas.pydata.org/pandas-docs/stable/user_guide/indexing.html#returning-a-view-versus-a-copy\n",
            "  filtered_data['Score'] = filtered_data['Score'].astype(float)\n",
            "<ipython-input-16-1bf94ec3e122>:16: SettingWithCopyWarning: \n",
            "A value is trying to be set on a copy of a slice from a DataFrame.\n",
            "Try using .loc[row_indexer,col_indexer] = value instead\n",
            "\n",
            "See the caveats in the documentation: https://pandas.pydata.org/pandas-docs/stable/user_guide/indexing.html#returning-a-view-versus-a-copy\n",
            "  filtered_data['Predicted.Readmission.Rate'] = filtered_data['Predicted.Readmission.Rate'].astype(float)\n",
            "<ipython-input-16-1bf94ec3e122>:17: SettingWithCopyWarning: \n",
            "A value is trying to be set on a copy of a slice from a DataFrame.\n",
            "Try using .loc[row_indexer,col_indexer] = value instead\n",
            "\n",
            "See the caveats in the documentation: https://pandas.pydata.org/pandas-docs/stable/user_guide/indexing.html#returning-a-view-versus-a-copy\n",
            "  filtered_data['Expected.Readmission.Rate'] = filtered_data['Expected.Readmission.Rate'].astype(float)\n"
          ]
        }
      ]
    },
    {
      "cell_type": "markdown",
      "source": [
        "This analysis explores the connection between health equity and hospital readmission rates, which ties directly to our research question. Health equity represents fairness in access to healthcare services, and understanding its impact helps identify regions where disparities might influence outcomes. The results show that health equity scores alone don’t strongly predict readmission rates, suggesting other factors also play a significant role. However, incorporating health equity into the analysis is important for identifying underserved areas and guiding efforts to improve healthcare outcomes and reduce readmissions.\n",
        "\n",
        "\n",
        "\n",
        "\n",
        "\n",
        "\n"
      ],
      "metadata": {
        "id": "8e27LtIRhRzg"
      }
    }
  ]
}